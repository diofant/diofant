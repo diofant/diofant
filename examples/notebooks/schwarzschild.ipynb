{
 "metadata": {
  "name": "schwarzschild"
 },
 "nbformat": 3,
 "nbformat_minor": 0,
 "worksheets": [
  {
   "cells": [
    {
     "cell_type": "markdown",
     "metadata": {},
     "source": [
      "# Schwarzschild Solution to the Einstein's equation"
     ]
    },
    {
     "cell_type": "markdown",
     "metadata": {},
     "source": [
      "We will rederive the equations from *General Theory of Relativity*, chapter 18, by Dirac. They describe a spherically symetric solution to the Einstein's equation in vacuum.\n",
      "\n",
      "We will not try to solve the resulting equations.\n",
      "\n",
      "This verion of the notebook uses funtions that explicitly calculate the Christoffel symbols, hence the work is coordinate-system-dependent."
     ]
    },
    {
     "cell_type": "markdown",
     "metadata": {},
     "source": [
      "Import the necessary modules."
     ]
    },
    {
     "cell_type": "code",
     "collapsed": false,
     "input": [
      "from sympy.diffgeom import *\n",
      "TP = TensorProduct"
     ],
     "language": "python",
     "metadata": {},
     "outputs": [],
     "prompt_number": 1
    },
    {
     "cell_type": "markdown",
     "metadata": {},
     "source": [
      "Define a 4D manifold with a patch and a coordinate chart on which we will work."
     ]
    },
    {
     "cell_type": "code",
     "collapsed": false,
     "input": [
      "m = Manifold('Schwarzschild', 4)\n",
      "p = Patch('origin', m)\n",
      "cs = CoordSystem('spherical', p, ['t', 'r', 'theta', 'phi'])"
     ],
     "language": "python",
     "metadata": {},
     "outputs": [],
     "prompt_number": 2
    },
    {
     "cell_type": "code",
     "collapsed": false,
     "input": [
      "m, p, cs"
     ],
     "language": "python",
     "metadata": {},
     "outputs": [
      {
       "latex": [
        "$$\\left ( \\mathrm{Schwarzschild}, \\quad \\mathrm{origin}_{\\mathrm{Schwarzschild}}, \\quad \\mathrm{spherical}^{\\mathrm{origin}}_{\\mathrm{Schwarzschild}}\\right )$$"
       ],
       "metadata": {},
       "output_type": "pyout",
       "png": "[encoded data removed]",
       "prompt_number": 3,
       "text": [
        "(Manifold(Schwarzschild, 4), Patch(origin, Manifold(Schwarzschild, 4)), CoordS\n",
        "ystem(spherical, Patch(origin, Manifold(Schwarzschild, 4)), (t, r, theta, phi)\n",
        "))"
       ]
      }
     ],
     "prompt_number": 3
    },
    {
     "cell_type": "markdown",
     "metadata": {},
     "source": [
      "Prepare the variables containing the scalar fields and the 1-form fields."
     ]
    },
    {
     "cell_type": "code",
     "collapsed": false,
     "input": [
      "t, r, theta, phi = cs.coord_functions()\n",
      "t, r, theta, phi"
     ],
     "language": "python",
     "metadata": {},
     "outputs": [
      {
       "latex": [
        "$$\\left ( \\boldsymbol{\\mathrm{t}}, \\quad \\boldsymbol{\\mathrm{r}}, \\quad \\boldsymbol{\\mathrm{\\theta}}, \\quad \\boldsymbol{\\mathrm{\\phi}}\\right )$$"
       ],
       "metadata": {},
       "output_type": "pyout",
       "png": "[encoded data removed]",
       "prompt_number": 4,
       "text": [
        "(t, r, \u03b8, \u03c6)"
       ]
      }
     ],
     "prompt_number": 4
    },
    {
     "cell_type": "code",
     "collapsed": false,
     "input": [
      "dt, dr, dtheta, dphi = cs.base_oneforms()\n",
      "dt, dr, dtheta, dphi"
     ],
     "language": "python",
     "metadata": {},
     "outputs": [
      {
       "latex": [
        "$$\\left ( \\mathrm{d}t, \\quad \\mathrm{d}r, \\quad \\mathrm{d}\\theta, \\quad \\mathrm{d}\\phi\\right )$$"
       ],
       "metadata": {},
       "output_type": "pyout",
       "png": "[encoded data removed]",
       "prompt_number": 5,
       "text": [
        "(\u2146 t, \u2146 r, \u2146 \u03b8, \u2146 \u03c6)"
       ]
      }
     ],
     "prompt_number": 5
    },
    {
     "cell_type": "markdown",
     "metadata": {},
     "source": [
      "The most general spherically-symmetric metric has the following form."
     ]
    },
    {
     "cell_type": "code",
     "collapsed": false,
     "input": [
      "metric = exp(2*f(r))*TP(dt, dt) - exp(2*g(r))*TP(dr, dr) - r**2*TP(dtheta, dtheta) - r**2*sin(theta)**2*TP(dphi, dphi)\n",
      "metric"
     ],
     "language": "python",
     "metadata": {},
     "outputs": [
      {
       "latex": [
        "$$e^{2 f{\\left (\\boldsymbol{\\mathrm{r}} \\right )}} \\mathrm{d}t\\otimes\\mathrm{d}t - e^{2 g{\\left (\\boldsymbol{\\mathrm{r}} \\right )}} \\mathrm{d}r\\otimes\\mathrm{d}r - \\sin^{2}{\\left (\\boldsymbol{\\mathrm{\\theta}} \\right )} \\left(\\boldsymbol{\\mathrm{r}}\\right)^{2} \\mathrm{d}\\phi\\otimes\\mathrm{d}\\phi - \\left(\\boldsymbol{\\mathrm{r}}\\right)^{2} \\mathrm{d}\\theta\\otimes\\mathrm{d}\\theta$$"
       ],
       "metadata": {},
       "output_type": "pyout",
       "png": "[encoded data removed]",
       "prompt_number": 6,
       "text": [
        " 2\u22c5f(r)                          2\u22c5g(r)                            2     2    \n",
        "\u212f      \u22c5TensorProduct(dt, dt) - \u212f      \u22c5TensorProduct(dr, dr) - sin (\u03b8)\u22c5r \u22c5Ten\n",
        "\n",
        "                          2                              \n",
        "sorProduct(dphi, dphi) - r \u22c5TensorProduct(dtheta, dtheta)"
       ]
      }
     ],
     "prompt_number": 6
    },
    {
     "cell_type": "markdown",
     "metadata": {},
     "source": [
      "The matrix $M$ representing the two-form as a bilinear map $V,U\\to V^tMU$ over the column vectors $V$ and $U$ in the canonical basis of the choosen coordinate system is:"
     ]
    },
    {
     "cell_type": "code",
     "collapsed": false,
     "input": [
      "twoform_to_matrix(metric)"
     ],
     "language": "python",
     "metadata": {},
     "outputs": [
      {
       "latex": [
        "$$\\left[\\begin{matrix}e^{2 f{\\left (\\boldsymbol{\\mathrm{r}} \\right )}} & 0 & 0 & 0\\\\0 & - e^{2 g{\\left (\\boldsymbol{\\mathrm{r}} \\right )}} & 0 & 0\\\\0 & 0 & - \\left(\\boldsymbol{\\mathrm{r}}\\right)^{2} & 0\\\\0 & 0 & 0 & - \\sin^{2}{\\left (\\boldsymbol{\\mathrm{\\theta}} \\right )} \\left(\\boldsymbol{\\mathrm{r}}\\right)^{2}\\end{matrix}\\right]$$"
       ],
       "metadata": {},
       "output_type": "pyout",
       "png": "[encoded data removed]",
       "prompt_number": 7,
       "text": [
        "\u23a1 2\u22c5f(r)                            \u23a4\n",
        "\u23a2\u212f           0       0        0     \u23a5\n",
        "\u23a2                                   \u23a5\n",
        "\u23a2           2\u22c5g(r)                  \u23a5\n",
        "\u23a2   0     -\u212f         0        0     \u23a5\n",
        "\u23a2                                   \u23a5\n",
        "\u23a2                     2             \u23a5\n",
        "\u23a2   0        0      -r        0     \u23a5\n",
        "\u23a2                                   \u23a5\n",
        "\u23a2                            2     2\u23a5\n",
        "\u23a3   0        0       0   -sin (\u03b8)\u22c5r \u23a6"
       ]
      }
     ],
     "prompt_number": 7
    },
    {
     "cell_type": "markdown",
     "metadata": {},
     "source": [
      "Now we will calculate the components in the same basis of the Ricci tensor."
     ]
    },
    {
     "cell_type": "code",
     "collapsed": false,
     "input": [
      "ricci = metric_to_Ricci_components(metric)"
     ],
     "language": "python",
     "metadata": {},
     "outputs": [],
     "prompt_number": 8
    },
    {
     "cell_type": "code",
     "collapsed": false,
     "input": [
      "ricci = [[simplify(ricci[i][j])\n",
      "            for j in range(4)] for i in range(4)]\n"
     ],
     "language": "python",
     "metadata": {},
     "outputs": [],
     "prompt_number": 9
    },
    {
     "cell_type": "markdown",
     "metadata": {},
     "source": [
      "The diagonal components give the equations we are interested in."
     ]
    },
    {
     "cell_type": "code",
     "collapsed": false,
     "input": [
      "ricci[0][0]"
     ],
     "language": "python",
     "metadata": {},
     "outputs": [
      {
       "latex": [
        "$$\\frac{1}{\\boldsymbol{\\mathrm{r}}} \\left(\\boldsymbol{\\mathrm{r}} \\left(\\left. \\frac{d}{d \\xi_{1}} f{\\left (\\xi_{1} \\right )} \\right|_{\\substack{ \\xi_{1}=\\boldsymbol{\\mathrm{r}} }}\\right)^{2} - \\boldsymbol{\\mathrm{r}} \\left. \\frac{d}{d \\xi_{1}} f{\\left (\\xi_{1} \\right )} \\right|_{\\substack{ \\xi_{1}=\\boldsymbol{\\mathrm{r}} }} \\left. \\frac{d}{d \\xi_{1}} g{\\left (\\xi_{1} \\right )} \\right|_{\\substack{ \\xi_{1}=\\boldsymbol{\\mathrm{r}} }} + \\boldsymbol{\\mathrm{r}} \\left. \\frac{d^{2}}{d \\xi_{1}^{2}}  f{\\left (\\xi_{1} \\right )} \\right|_{\\substack{ \\xi_{1}=\\boldsymbol{\\mathrm{r}} }} + 2 \\left. \\frac{d}{d \\xi_{1}} f{\\left (\\xi_{1} \\right )} \\right|_{\\substack{ \\xi_{1}=\\boldsymbol{\\mathrm{r}} }}\\right) e^{2 f{\\left (\\boldsymbol{\\mathrm{r}} \\right )} - 2 g{\\left (\\boldsymbol{\\mathrm{r}} \\right )}}$$"
       ],
       "metadata": {},
       "output_type": "pyout",
       "png": "[encoded data removed]",
       "prompt_number": 10,
       "text": [
        "\u239b                   2                                             \u239b  2        \n",
        "\u239c  \u239b d        \u239e\u2502          \u239b d        \u239e\u2502     \u239b d        \u239e\u2502         \u239c d         \n",
        "\u239cr\u22c5\u239c\u2500\u2500\u2500(f(\u03be\u2081))\u239f\u2502      - r\u22c5\u239c\u2500\u2500\u2500(f(\u03be\u2081))\u239f\u2502    \u22c5\u239c\u2500\u2500\u2500(g(\u03be\u2081))\u239f\u2502     + r\u22c5\u239c\u2500\u2500\u2500\u2500(f(\u03be\u2081))\n",
        "\u239c  \u239dd\u03be\u2081       \u23a0\u2502\u03be\u2081=r      \u239dd\u03be\u2081       \u23a0\u2502\u03be\u2081=r \u239dd\u03be\u2081       \u23a0\u2502\u03be\u2081=r     \u239c   2       \n",
        "\u239d                                                                 \u239dd\u03be\u2081        \n",
        "\u2500\u2500\u2500\u2500\u2500\u2500\u2500\u2500\u2500\u2500\u2500\u2500\u2500\u2500\u2500\u2500\u2500\u2500\u2500\u2500\u2500\u2500\u2500\u2500\u2500\u2500\u2500\u2500\u2500\u2500\u2500\u2500\u2500\u2500\u2500\u2500\u2500\u2500\u2500\u2500\u2500\u2500\u2500\u2500\u2500\u2500\u2500\u2500\u2500\u2500\u2500\u2500\u2500\u2500\u2500\u2500\u2500\u2500\u2500\u2500\u2500\u2500\u2500\u2500\u2500\u2500\u2500\u2500\u2500\u2500\u2500\u2500\u2500\u2500\u2500\u2500\u2500\u2500\n",
        "                                                             r                \n",
        "\n",
        "\u239e\u2502                          \u239e                 \n",
        "\u239f\u2502         \u239b d        \u239e\u2502    \u239f  2\u22c5f(r) - 2\u22c5g(r)\n",
        "\u239f\u2502     + 2\u22c5\u239c\u2500\u2500\u2500(f(\u03be\u2081))\u239f\u2502    \u239f\u22c5\u212f               \n",
        "\u239f\u2502         \u239dd\u03be\u2081       \u23a0\u2502\u03be\u2081=r\u239f                 \n",
        "\u23a0\u2502\u03be\u2081=r                      \u23a0                 \n",
        "\u2500\u2500\u2500\u2500\u2500\u2500\u2500\u2500\u2500\u2500\u2500\u2500\u2500\u2500\u2500\u2500\u2500\u2500\u2500\u2500\u2500\u2500\u2500\u2500\u2500\u2500\u2500\u2500\u2500\u2500\u2500\u2500\u2500\u2500\u2500\u2500\u2500\u2500\u2500\u2500\u2500\u2500\u2500\u2500\u2500\u2500\n",
        "                                              "
       ]
      }
     ],
     "prompt_number": 10
    },
    {
     "cell_type": "code",
     "collapsed": false,
     "input": [
      "ricci[1][1]"
     ],
     "language": "python",
     "metadata": {},
     "outputs": [
      {
       "latex": [
        "$$- \\left(\\left. \\frac{d}{d \\xi_{1}} f{\\left (\\xi_{1} \\right )} \\right|_{\\substack{ \\xi_{1}=\\boldsymbol{\\mathrm{r}} }}\\right)^{2} + \\left. \\frac{d}{d \\xi_{1}} f{\\left (\\xi_{1} \\right )} \\right|_{\\substack{ \\xi_{1}=\\boldsymbol{\\mathrm{r}} }} \\left. \\frac{d}{d \\xi_{1}} g{\\left (\\xi_{1} \\right )} \\right|_{\\substack{ \\xi_{1}=\\boldsymbol{\\mathrm{r}} }} - \\left. \\frac{d^{2}}{d \\xi_{1}^{2}}  f{\\left (\\xi_{1} \\right )} \\right|_{\\substack{ \\xi_{1}=\\boldsymbol{\\mathrm{r}} }} + \\frac{2}{\\boldsymbol{\\mathrm{r}}} \\left. \\frac{d}{d \\xi_{1}} g{\\left (\\xi_{1} \\right )} \\right|_{\\substack{ \\xi_{1}=\\boldsymbol{\\mathrm{r}} }}$$"
       ],
       "metadata": {},
       "output_type": "pyout",
       "png": "[encoded data removed]",
       "prompt_number": 11,
       "text": [
        "                                                                              \n",
        "                   2                                         \u239b  2        \u239e\u2502   \n",
        "  \u239b d        \u239e\u2502        \u239b d        \u239e\u2502     \u239b d        \u239e\u2502       \u239c d         \u239f\u2502   \n",
        "- \u239c\u2500\u2500\u2500(f(\u03be\u2081))\u239f\u2502      + \u239c\u2500\u2500\u2500(f(\u03be\u2081))\u239f\u2502    \u22c5\u239c\u2500\u2500\u2500(g(\u03be\u2081))\u239f\u2502     - \u239c\u2500\u2500\u2500\u2500(f(\u03be\u2081))\u239f\u2502   \n",
        "  \u239dd\u03be\u2081       \u23a0\u2502\u03be\u2081=r    \u239dd\u03be\u2081       \u23a0\u2502\u03be\u2081=r \u239dd\u03be\u2081       \u23a0\u2502\u03be\u2081=r   \u239c   2       \u239f\u2502   \n",
        "                                                             \u239dd\u03be\u2081        \u23a0\u2502\u03be\u2081=\n",
        "\n",
        "      \u239b d        \u239e\u2502    \n",
        "    2\u22c5\u239c\u2500\u2500\u2500(g(\u03be\u2081))\u239f\u2502    \n",
        "      \u239dd\u03be\u2081       \u23a0\u2502\u03be\u2081=r\n",
        "  + \u2500\u2500\u2500\u2500\u2500\u2500\u2500\u2500\u2500\u2500\u2500\u2500\u2500\u2500\u2500\u2500\u2500\u2500\u2500\n",
        "             r         \n",
        "r                      "
       ]
      }
     ],
     "prompt_number": 11
    },
    {
     "cell_type": "code",
     "collapsed": false,
     "input": [
      "ricci[2][2]"
     ],
     "language": "python",
     "metadata": {},
     "outputs": [
      {
       "latex": [
        "$$\\left(e^{2 g{\\left (\\boldsymbol{\\mathrm{r}} \\right )}} - \\boldsymbol{\\mathrm{r}} \\left. \\frac{d}{d \\xi_{1}} f{\\left (\\xi_{1} \\right )} \\right|_{\\substack{ \\xi_{1}=\\boldsymbol{\\mathrm{r}} }} + \\boldsymbol{\\mathrm{r}} \\left. \\frac{d}{d \\xi_{1}} g{\\left (\\xi_{1} \\right )} \\right|_{\\substack{ \\xi_{1}=\\boldsymbol{\\mathrm{r}} }} - 1\\right) e^{- 2 g{\\left (\\boldsymbol{\\mathrm{r}} \\right )}}$$"
       ],
       "metadata": {},
       "output_type": "pyout",
       "png": "[encoded data removed]",
       "prompt_number": 12,
       "text": [
        "\u239b 2\u22c5g(r)     \u239b d        \u239e\u2502         \u239b d        \u239e\u2502        \u239e  -2\u22c5g(r)\n",
        "\u239c\u212f       - r\u22c5\u239c\u2500\u2500\u2500(f(\u03be\u2081))\u239f\u2502     + r\u22c5\u239c\u2500\u2500\u2500(g(\u03be\u2081))\u239f\u2502     - 1\u239f\u22c5\u212f       \n",
        "\u239d            \u239dd\u03be\u2081       \u23a0\u2502\u03be\u2081=r     \u239dd\u03be\u2081       \u23a0\u2502\u03be\u2081=r    \u23a0         "
       ]
      }
     ],
     "prompt_number": 12
    },
    {
     "cell_type": "code",
     "collapsed": false,
     "input": [
      "ricci[3][3]"
     ],
     "language": "python",
     "metadata": {},
     "outputs": [
      {
       "latex": [
        "$$\\left(e^{2 g{\\left (\\boldsymbol{\\mathrm{r}} \\right )}} - \\boldsymbol{\\mathrm{r}} \\left. \\frac{d}{d \\xi_{1}} f{\\left (\\xi_{1} \\right )} \\right|_{\\substack{ \\xi_{1}=\\boldsymbol{\\mathrm{r}} }} + \\boldsymbol{\\mathrm{r}} \\left. \\frac{d}{d \\xi_{1}} g{\\left (\\xi_{1} \\right )} \\right|_{\\substack{ \\xi_{1}=\\boldsymbol{\\mathrm{r}} }} - 1\\right) e^{- 2 g{\\left (\\boldsymbol{\\mathrm{r}} \\right )}} \\sin^{2}{\\left (\\boldsymbol{\\mathrm{\\theta}} \\right )}$$"
       ],
       "metadata": {},
       "output_type": "pyout",
       "png": "[encoded data removed]",
       "prompt_number": 13,
       "text": [
        "\u239b 2\u22c5g(r)     \u239b d        \u239e\u2502         \u239b d        \u239e\u2502        \u239e  -2\u22c5g(r)    2   \n",
        "\u239c\u212f       - r\u22c5\u239c\u2500\u2500\u2500(f(\u03be\u2081))\u239f\u2502     + r\u22c5\u239c\u2500\u2500\u2500(g(\u03be\u2081))\u239f\u2502     - 1\u239f\u22c5\u212f       \u22c5sin (\u03b8)\n",
        "\u239d            \u239dd\u03be\u2081       \u23a0\u2502\u03be\u2081=r     \u239dd\u03be\u2081       \u23a0\u2502\u03be\u2081=r    \u23a0                 "
       ]
      }
     ],
     "prompt_number": 13
    },
    {
     "cell_type": "markdown",
     "metadata": {},
     "source": [
      "The off-diagonal components are zero."
     ]
    },
    {
     "cell_type": "code",
     "collapsed": false,
     "input": [
      "all(ricci[i][j]==0 for i in range(4) for j in range(4) if i!=j)"
     ],
     "language": "python",
     "metadata": {},
     "outputs": [
      {
       "metadata": {},
       "output_type": "pyout",
       "prompt_number": 14,
       "text": [
        "True"
       ]
      }
     ],
     "prompt_number": 14
    },
    {
     "cell_type": "markdown",
     "metadata": {},
     "source": [
      "For completeness we can also check out the Christoffel symbol of 2nd kind. We will print only the non-zero components, and only one of the symmetric components (symmetric in the last two indices)."
     ]
    },
    {
     "cell_type": "code",
     "collapsed": false,
     "input": [
      "ch_2nd = metric_to_Christoffel_2nd(metric)\n",
      "filt = [((i,j,k), simplify(ch_2nd[i][j][k]))\n",
      "            for i in range(4) for j in range(4) for k in range(j,4)\n",
      "            if ch_2nd[i][j][k]!=0]"
     ],
     "language": "python",
     "metadata": {},
     "outputs": [],
     "prompt_number": 15
    },
    {
     "cell_type": "code",
     "collapsed": false,
     "input": [
      "filt[0:3]"
     ],
     "language": "python",
     "metadata": {},
     "outputs": [
      {
       "latex": [
        "$$\\left [ \\left ( \\left ( 0, \\quad 0, \\quad 1\\right ), \\quad \\left. \\frac{d}{d \\xi_{1}} f{\\left (\\xi_{1} \\right )} \\right|_{\\substack{ \\xi_{1}=\\boldsymbol{\\mathrm{r}} }}\\right ), \\quad \\left ( \\left ( 1, \\quad 0, \\quad 0\\right ), \\quad e^{2 f{\\left (\\boldsymbol{\\mathrm{r}} \\right )} - 2 g{\\left (\\boldsymbol{\\mathrm{r}} \\right )}} \\left. \\frac{d}{d \\xi_{1}} f{\\left (\\xi_{1} \\right )} \\right|_{\\substack{ \\xi_{1}=\\boldsymbol{\\mathrm{r}} }}\\right ), \\quad \\left ( \\left ( 1, \\quad 1, \\quad 1\\right ), \\quad \\left. \\frac{d}{d \\xi_{1}} g{\\left (\\xi_{1} \\right )} \\right|_{\\substack{ \\xi_{1}=\\boldsymbol{\\mathrm{r}} }}\\right )\\right ]$$"
       ],
       "metadata": {},
       "output_type": "pyout",
       "png": "[encoded data removed]",
       "prompt_number": 16,
       "text": [
        "\u23a1\u239b           \u239b d        \u239e\u2502    \u239e  \u239b            2\u22c5f(r) - 2\u22c5g(r) \u239b d        \u239e\u2502   \n",
        "\u23a2\u239c(0, 0, 1), \u239c\u2500\u2500\u2500(f(\u03be\u2081))\u239f\u2502    \u239f, \u239c(1, 0, 0), \u212f               \u22c5\u239c\u2500\u2500\u2500(f(\u03be\u2081))\u239f\u2502   \n",
        "\u23a3\u239d           \u239dd\u03be\u2081       \u23a0\u2502\u03be\u2081=r\u23a0  \u239d                            \u239dd\u03be\u2081       \u23a0\u2502\u03be\u2081=\n",
        "\n",
        " \u239e  \u239b           \u239b d        \u239e\u2502    \u239e\u23a4\n",
        " \u239f, \u239c(1, 1, 1), \u239c\u2500\u2500\u2500(g(\u03be\u2081))\u239f\u2502    \u239f\u23a5\n",
        "r\u23a0  \u239d           \u239dd\u03be\u2081       \u23a0\u2502\u03be\u2081=r\u23a0\u23a6"
       ]
      }
     ],
     "prompt_number": 16
    },
    {
     "cell_type": "code",
     "collapsed": false,
     "input": [
      "filt[3:6]"
     ],
     "language": "python",
     "metadata": {},
     "outputs": [
      {
       "latex": [
        "$$\\left [ \\left ( \\left ( 1, \\quad 2, \\quad 2\\right ), \\quad - e^{- 2 g{\\left (\\boldsymbol{\\mathrm{r}} \\right )}} \\boldsymbol{\\mathrm{r}}\\right ), \\quad \\left ( \\left ( 1, \\quad 3, \\quad 3\\right ), \\quad - e^{- 2 g{\\left (\\boldsymbol{\\mathrm{r}} \\right )}} \\sin^{2}{\\left (\\boldsymbol{\\mathrm{\\theta}} \\right )} \\boldsymbol{\\mathrm{r}}\\right ), \\quad \\left ( \\left ( 2, \\quad 1, \\quad 2\\right ), \\quad \\frac{1}{\\boldsymbol{\\mathrm{r}}}\\right )\\right ]$$"
       ],
       "metadata": {},
       "output_type": "pyout",
       "png": "[encoded data removed]",
       "prompt_number": 17,
       "text": [
        "\u23a1\u239b             -2\u22c5g(r)  \u239e  \u239b             -2\u22c5g(r)    2     \u239e  \u239b           1\u239e\u23a4\n",
        "\u23a2\u239d(1, 2, 2), -\u212f       \u22c5r\u23a0, \u239d(1, 3, 3), -\u212f       \u22c5sin (\u03b8)\u22c5r\u23a0, \u239c(2, 1, 2), \u2500\u239f\u23a5\n",
        "\u23a3                                                            \u239d           r\u23a0\u23a6"
       ]
      }
     ],
     "prompt_number": 17
    },
    {
     "cell_type": "code",
     "collapsed": false,
     "input": [
      "filt[6:9]"
     ],
     "language": "python",
     "metadata": {},
     "outputs": [
      {
       "latex": [
        "$$\\left [ \\left ( \\left ( 2, \\quad 3, \\quad 3\\right ), \\quad - \\frac{1}{2} \\sin{\\left (2 \\boldsymbol{\\mathrm{\\theta}} \\right )}\\right ), \\quad \\left ( \\left ( 3, \\quad 1, \\quad 3\\right ), \\quad \\frac{1}{\\boldsymbol{\\mathrm{r}}}\\right ), \\quad \\left ( \\left ( 3, \\quad 2, \\quad 3\\right ), \\quad \\frac{1}{\\tan{\\left (\\boldsymbol{\\mathrm{\\theta}} \\right )}}\\right )\\right ]$$"
       ],
       "metadata": {},
       "output_type": "pyout",
       "png": "[encoded data removed]",
       "prompt_number": 18,
       "text": [
        "\u23a1\u239b           -sin(2\u22c5\u03b8) \u239e  \u239b           1\u239e  \u239b             1   \u239e\u23a4\n",
        "\u23a2\u239c(2, 3, 3), \u2500\u2500\u2500\u2500\u2500\u2500\u2500\u2500\u2500\u2500\u239f, \u239c(3, 1, 3), \u2500\u239f, \u239c(3, 2, 3), \u2500\u2500\u2500\u2500\u2500\u2500\u239f\u23a5\n",
        "\u23a3\u239d               2     \u23a0  \u239d           r\u23a0  \u239d           tan(\u03b8)\u23a0\u23a6"
       ]
      }
     ],
     "prompt_number": 18
    },
    {
     "cell_type": "markdown",
     "metadata": {},
     "source": [
      "We can also confirm that the Christoffel symbol is symmetric."
     ]
    },
    {
     "cell_type": "code",
     "collapsed": false,
     "input": [
      "all([ch_2nd[k][i][j] == ch_2nd[k][j][i] for k in range(4) for i in range(4) for j in range(4)])"
     ],
     "language": "python",
     "metadata": {},
     "outputs": [
      {
       "metadata": {},
       "output_type": "pyout",
       "prompt_number": 19,
       "text": [
        "True"
       ]
      }
     ],
     "prompt_number": 19
    }
   ],
   "metadata": {}
  }
 ]
}