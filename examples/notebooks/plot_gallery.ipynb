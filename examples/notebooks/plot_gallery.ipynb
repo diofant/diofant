{
 "metadata": {
  "name": "plot_gallery"
 }, 
 "nbformat": 2, 
 "worksheets": [
  {
   "cells": [
    {
     "cell_type": "markdown", 
     "source": [
      "### Beach ball"
     ]
    }, 
    {
     "cell_type": "code", 
     "collapsed": true, 
     "input": [
      "from sympy.plotting import plot3d_parametric_surface"
     ], 
     "language": "python", 
     "outputs": [], 
     "prompt_number": 1
    }, 
    {
     "cell_type": "code", 
     "collapsed": false, 
     "input": [
      "p = plot3d_parametric_surface(sin(x)*sin(y), sin(x)*cos(y), cos(x), (x, 0, pi), (y, 0, 2*pi))"
     ], 
     "language": "python", 
     "outputs": [], 
     "prompt_number": 2
    }, 
    {
     "cell_type": "code", 
     "collapsed": false, 
     "input": [
      "p[0].surface_color = lambda a, b : cos(4*a)*sin(2*b)", 
      "", 
      "p.show()"
     ], 
     "language": "python", 
     "outputs": [], 
     "prompt_number": 3
    }
   ]
  }
 ]
}