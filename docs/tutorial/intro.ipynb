{
 "cells": [
  {
   "cell_type": "markdown",
   "metadata": {},
   "source": [
    "# Introduction"
   ]
  },
  {
   "cell_type": "markdown",
   "metadata": {},
   "source": [
    "Symbolic computation deals with the computation of mathematical\n",
    "objects symbolically.  This means that the mathematical objects are\n",
    "represented exactly, not approximately, and mathematical expressions\n",
    "with unevaluated variables are left in symbolic form.\n",
    "\n",
    "Let's take an example.  Say we wanted to use the built-in Python\n",
    "functions to compute square roots.  We might do something like this"
   ]
  },
  {
   "cell_type": "code",
   "execution_count": 1,
   "metadata": {},
   "outputs": [
    {
     "data": {
      "text/plain": [
       "3.0"
      ]
     },
     "execution_count": 1,
     "metadata": {},
     "output_type": "execute_result"
    }
   ],
   "source": [
    "import math\n",
    "math.sqrt(9)"
   ]
  },
  {
   "cell_type": "markdown",
   "metadata": {},
   "source": [
    "Here we got the exact answer — 9 is a perfect square — but usually\n",
    "it will be an approximate result"
   ]
  },
  {
   "cell_type": "code",
   "execution_count": 2,
   "metadata": {},
   "outputs": [
    {
     "data": {
      "text/plain": [
       "2.8284271247461903"
      ]
     },
     "execution_count": 2,
     "metadata": {},
     "output_type": "execute_result"
    }
   ],
   "source": [
    "math.sqrt(8)"
   ]
  },
  {
   "cell_type": "markdown",
   "metadata": {},
   "source": [
    "This is where symbolic computation first comes in: with a symbolic computation system like Diofant, square roots of numbers that are not perfect squares are left unevaluated by default"
   ]
  },
  {
   "cell_type": "code",
   "execution_count": 3,
   "metadata": {},
   "outputs": [
    {
     "data": {
      "text/latex": [
       "\\begin{equation*}\\sqrt{3}\\end{equation*}"
      ],
      "text/plain": [
       "  ___\n",
       "╲╱ 3 "
      ]
     },
     "execution_count": 3,
     "metadata": {},
     "output_type": "execute_result"
    }
   ],
   "source": [
    "import diofant\n",
    "diofant.sqrt(3)"
   ]
  },
  {
   "cell_type": "markdown",
   "metadata": {},
   "source": [
    "Furthermore — and this is where we start to see the real power of symbolic computation — results can be symbolically simplified."
   ]
  },
  {
   "cell_type": "code",
   "execution_count": 4,
   "metadata": {},
   "outputs": [
    {
     "data": {
      "text/latex": [
       "\\begin{equation*}2 \\sqrt{2}\\end{equation*}"
      ],
      "text/plain": [
       "    ___\n",
       "2⋅╲╱ 2 "
      ]
     },
     "execution_count": 4,
     "metadata": {},
     "output_type": "execute_result"
    }
   ],
   "source": [
    "diofant.sqrt(8)"
   ]
  },
  {
   "cell_type": "markdown",
   "metadata": {},
   "source": [
    "Yet we can also approximate this number with any precision"
   ]
  },
  {
   "cell_type": "code",
   "execution_count": 5,
   "metadata": {},
   "outputs": [
    {
     "data": {
      "text/latex": [
       "\\begin{equation*}2.8284271247461900976\\end{equation*}"
      ],
      "text/plain": [
       "2.8284271247461900976"
      ]
     },
     "execution_count": 5,
     "metadata": {},
     "output_type": "execute_result"
    }
   ],
   "source": [
    "_.evalf(20)"
   ]
  },
  {
   "cell_type": "markdown",
   "metadata": {},
   "source": [
    "The above example starts to show how we can manipulate irrational numbers exactly using Diofant. Now we introduce symbols."
   ]
  },
  {
   "cell_type": "markdown",
   "metadata": {},
   "source": [
    "Let us define a symbolic expression, representing the mathematical expression $x + 2y$.\n"
   ]
  },
  {
   "cell_type": "code",
   "execution_count": 6,
   "metadata": {},
   "outputs": [
    {
     "data": {
      "text/latex": [
       "\\begin{equation*}x + 2 y\\end{equation*}"
      ],
      "text/plain": [
       "x + 2⋅y"
      ]
     },
     "execution_count": 6,
     "metadata": {},
     "output_type": "execute_result"
    }
   ],
   "source": [
    "x, y = diofant.symbols('x y')\n",
    "x + 2*y"
   ]
  },
  {
   "cell_type": "raw",
   "metadata": {
    "raw_mimetype": "text/restructuredtext"
   },
   "source": [
    ".. note::\n",
    "\n",
    "   Unlike many symbolic manipulation systems you may have used, in\n",
    "   Diofant, symbols are not defined automatically.  To define symbols,\n",
    "   we must use :func:`~diofant.core.symbol.symbols`, that takes a\n",
    "   string of symbol names separated by spaces or commas, and creates\n",
    "   :class:`~diofant.core.symbol.Symbol` instances out of them.\n"
   ]
  },
  {
   "cell_type": "markdown",
   "metadata": {},
   "source": [
    "Note that we wrote ``x + 2*y``, using Python's mathematical syntax,\n",
    "just as we would if ``x`` and ``y`` were ordinary Python variables.\n",
    "But in this case, instead of evaluating to something, the expression\n",
    "remains as just ``x + 2*y``.  Now let us play around with it:\n"
   ]
  },
  {
   "cell_type": "code",
   "execution_count": 7,
   "metadata": {},
   "outputs": [
    {
     "data": {
      "text/latex": [
       "\\begin{equation*}x + 2 y + 1\\end{equation*}"
      ],
      "text/plain": [
       "x + 2⋅y + 1"
      ]
     },
     "execution_count": 7,
     "metadata": {},
     "output_type": "execute_result"
    }
   ],
   "source": [
    "_6 + 1"
   ]
  },
  {
   "cell_type": "code",
   "execution_count": 8,
   "metadata": {},
   "outputs": [
    {
     "data": {
      "text/latex": [
       "\\begin{equation*}2 y\\end{equation*}"
      ],
      "text/plain": [
       "2⋅y"
      ]
     },
     "execution_count": 8,
     "metadata": {},
     "output_type": "execute_result"
    }
   ],
   "source": [
    "_6 - x"
   ]
  },
  {
   "cell_type": "markdown",
   "metadata": {},
   "source": [
    "Notice something in the above example.  When we typed ``_6 - x``, we\n",
    "did not get ``x + 2*y - x``, but rather just ``2*y``.  The ``x`` and\n",
    "the ``-x`` automatically canceled one another.  This is similar to how\n",
    "``sqrt(8)`` automatically turned into ``2*sqrt(2)`` above.\n"
   ]
  },
  {
   "cell_type": "raw",
   "metadata": {
    "raw_mimetype": "text/restructuredtext"
   },
   "source": [
    ".. tip::\n",
    "\n",
    "   Use :func:`~diofant.core.evaluate.evaluate` context or ``evaluate``\n",
    "   flag to prevent automatic evaluation"
   ]
  },
  {
   "cell_type": "markdown",
   "metadata": {},
   "source": [
    "This isn't always the case in Diofant, however:"
   ]
  },
  {
   "cell_type": "code",
   "execution_count": 9,
   "metadata": {},
   "outputs": [
    {
     "data": {
      "text/latex": [
       "\\begin{equation*}x \\left(x + 2 y\\right)\\end{equation*}"
      ],
      "text/plain": [
       "x⋅(x + 2⋅y)"
      ]
     },
     "execution_count": 9,
     "metadata": {},
     "output_type": "execute_result"
    }
   ],
   "source": [
    "x*_6"
   ]
  },
  {
   "cell_type": "markdown",
   "metadata": {},
   "source": [
    "Here, we might have expected $x(x + 2y)$ to transform into $x^2 +\n",
    "2xy$, but instead we see that the expression was left alone.  This is\n",
    "a common theme in Diofant.  Aside from obvious simplifications like\n",
    "$x - x = 0$ and $\\sqrt{8} = 2\\sqrt{2}$, most simplifications are not\n",
    "performed automatically.  This is because we might prefer the factored\n",
    "form $x(x + 2y)$, or we might prefer the expanded form $x^2 + 2xy$ —\n",
    "both forms are useful in different circumstances.  In Diofant, there\n",
    "are functions to go from one form to the other\n"
   ]
  },
  {
   "cell_type": "code",
   "execution_count": 10,
   "metadata": {},
   "outputs": [
    {
     "data": {
      "text/latex": [
       "\\begin{equation*}x^{2} + 2 x y\\end{equation*}"
      ],
      "text/plain": [
       " 2        \n",
       "x  + 2⋅x⋅y"
      ]
     },
     "execution_count": 10,
     "metadata": {},
     "output_type": "execute_result"
    }
   ],
   "source": [
    "diofant.expand(_9)"
   ]
  },
  {
   "cell_type": "code",
   "execution_count": 11,
   "metadata": {},
   "outputs": [
    {
     "data": {
      "text/latex": [
       "\\begin{equation*}x \\left(x + 2 y\\right)\\end{equation*}"
      ],
      "text/plain": [
       "x⋅(x + 2⋅y)"
      ]
     },
     "execution_count": 11,
     "metadata": {},
     "output_type": "execute_result"
    }
   ],
   "source": [
    "diofant.factor(_)"
   ]
  },
  {
   "cell_type": "markdown",
   "metadata": {},
   "source": [
    "The real power of a symbolic computation system (which by the way, are\n",
    "also often called computer algebra systems, or just CASs) such as\n",
    "Diofant is the ability to do all sorts of computations symbolically:\n",
    "simplify expressions, compute derivatives, integrals, and limits,\n",
    "solve equations, work with matrices, and much more.  Diofant includes\n",
    "modules for plotting, printing (like 2D pretty printed output of math\n",
    "formulas, or $\\LaTeX$), code generation, statistics, combinatorics,\n",
    "number theory, logic, and more.  Here is a small sampling of the sort\n",
    "of symbolic power Diofant is capable of, to whet your appetite.\n"
   ]
  },
  {
   "cell_type": "code",
   "execution_count": 12,
   "metadata": {},
   "outputs": [],
   "source": [
    "from diofant import *\n",
    "x, y, z = symbols('x y z')\n",
    "init_printing(pretty_print=True, use_unicode=True)"
   ]
  },
  {
   "cell_type": "raw",
   "metadata": {
    "raw_mimetype": "text/restructuredtext"
   },
   "source": [
    ".. note::\n",
    "\n",
    "   From here on in this tutorial we assume that above statements were executed.\n"
   ]
  },
  {
   "cell_type": "markdown",
   "metadata": {},
   "source": [
    "Take the derivative of $\\sin{(x)}e^x$."
   ]
  },
  {
   "cell_type": "code",
   "execution_count": 13,
   "metadata": {},
   "outputs": [
    {
     "data": {
      "text/latex": [
       "\\begin{equation*}e^{x} \\sin{\\left (x \\right )} + e^{x} \\cos{\\left (x \\right )}\\end{equation*}"
      ],
      "text/plain": [
       " x           x       \n",
       "ℯ ⋅sin(x) + ℯ ⋅cos(x)"
      ]
     },
     "execution_count": 13,
     "metadata": {},
     "output_type": "execute_result"
    }
   ],
   "source": [
    "diff(sin(x)*exp(x), x)"
   ]
  },
  {
   "cell_type": "markdown",
   "metadata": {},
   "source": [
    "Compute $\\int(e^x\\sin{(x)} + e^x\\cos{(x)})\\,dx$."
   ]
  },
  {
   "cell_type": "code",
   "execution_count": 14,
   "metadata": {},
   "outputs": [
    {
     "data": {
      "text/latex": [
       "\\begin{equation*}e^{x} \\sin{\\left (x \\right )}\\end{equation*}"
      ],
      "text/plain": [
       " x       \n",
       "ℯ ⋅sin(x)"
      ]
     },
     "execution_count": 14,
     "metadata": {},
     "output_type": "execute_result"
    }
   ],
   "source": [
    "integrate(exp(x)*sin(x) + exp(x)*cos(x), x)"
   ]
  },
  {
   "cell_type": "markdown",
   "metadata": {},
   "source": [
    "Compute $\\int_{-\\infty}^\\infty \\sin{(x^2)}\\,dx$."
   ]
  },
  {
   "cell_type": "code",
   "execution_count": 15,
   "metadata": {},
   "outputs": [
    {
     "data": {
      "text/latex": [
       "\\begin{equation*}\\frac{\\sqrt{2} \\sqrt{\\pi}}{2}\\end{equation*}"
      ],
      "text/plain": [
       "  ___   ___\n",
       "╲╱ 2 ⋅╲╱ π \n",
       "───────────\n",
       "     2     "
      ]
     },
     "execution_count": 15,
     "metadata": {},
     "output_type": "execute_result"
    }
   ],
   "source": [
    "integrate(sin(x**2), (x, -oo, oo))"
   ]
  },
  {
   "cell_type": "markdown",
   "metadata": {},
   "source": [
    "Find $\\lim_{x\\to 0^+}\\frac{\\sin{(x)}}{x}$."
   ]
  },
  {
   "cell_type": "code",
   "execution_count": 16,
   "metadata": {},
   "outputs": [
    {
     "data": {
      "text/latex": [
       "\\begin{equation*}1\\end{equation*}"
      ],
      "text/plain": [
       "1"
      ]
     },
     "execution_count": 16,
     "metadata": {},
     "output_type": "execute_result"
    }
   ],
   "source": [
    "limit(sin(x)/x, x, 0)"
   ]
  },
  {
   "cell_type": "markdown",
   "metadata": {},
   "source": [
    "Solve $x^2 - 2 = 0$."
   ]
  },
  {
   "cell_type": "code",
   "execution_count": 17,
   "metadata": {},
   "outputs": [
    {
     "data": {
      "text/latex": [
       "\\begin{equation*}\\left [ \\left \\{ x : - \\sqrt{2}\\right \\}, \\quad \\left \\{ x : \\sqrt{2}\\right \\}\\right ]\\end{equation*}"
      ],
      "text/plain": [
       "⎡⎧      ___⎫  ⎧     ___⎫⎤\n",
       "⎢⎨x: -╲╱ 2 ⎬, ⎨x: ╲╱ 2 ⎬⎥\n",
       "⎣⎩         ⎭  ⎩        ⎭⎦"
      ]
     },
     "execution_count": 17,
     "metadata": {},
     "output_type": "execute_result"
    }
   ],
   "source": [
    "solve(x**2 - 2, x)"
   ]
  },
  {
   "cell_type": "markdown",
   "metadata": {},
   "source": [
    "Solve the differential equation $f'' - f = e^x$."
   ]
  },
  {
   "cell_type": "code",
   "execution_count": 18,
   "metadata": {},
   "outputs": [
    {
     "data": {
      "text/latex": [
       "\\begin{equation*}f{\\left (x \\right )} = e^{x} \\left(C_{2} + \\frac{x}{2}\\right) + e^{- x} C_{1}\\end{equation*}"
      ],
      "text/plain": [
       "        x ⎛     x⎞    -x   \n",
       "f(x) = ℯ ⋅⎜C₂ + ─⎟ + ℯ  ⋅C₁\n",
       "          ⎝     2⎠         "
      ]
     },
     "execution_count": 18,
     "metadata": {},
     "output_type": "execute_result"
    }
   ],
   "source": [
    "f = symbols('f', cls=Function)\n",
    "dsolve(Eq(f(x).diff(x, 2) - f(x), exp(x)), f(x))"
   ]
  },
  {
   "cell_type": "markdown",
   "metadata": {},
   "source": [
    "Find the eigenvalues of $\\left[\\begin{smallmatrix}1 & 2\\\\2 &\n",
    "2\\end{smallmatrix}\\right]$."
   ]
  },
  {
   "cell_type": "code",
   "execution_count": 19,
   "metadata": {},
   "outputs": [
    {
     "data": {
      "text/latex": [
       "\\begin{equation*}\\left \\{ \\frac{3}{2} + \\frac{\\sqrt{17}}{2} : 1, \\quad - \\frac{\\sqrt{17}}{2} + \\frac{3}{2} : 1\\right \\}\\end{equation*}"
      ],
      "text/plain": [
       "⎧      ____         ____       ⎫\n",
       "⎪3   ╲╱ 17        ╲╱ 17    3   ⎪\n",
       "⎨─ + ──────: 1, - ────── + ─: 1⎬\n",
       "⎪2     2            2      2   ⎪\n",
       "⎩                              ⎭"
      ]
     },
     "execution_count": 19,
     "metadata": {},
     "output_type": "execute_result"
    }
   ],
   "source": [
    "Matrix([[1, 2], [2, 2]]).eigenvals()"
   ]
  },
  {
   "cell_type": "markdown",
   "metadata": {},
   "source": [
    "Rewrite the Bessel function $J_{n}\\left(z\\right)$ in terms of the\n",
    "spherical Bessel function $j_n(z)$."
   ]
  },
  {
   "cell_type": "code",
   "execution_count": 20,
   "metadata": {},
   "outputs": [
    {
     "data": {
      "text/latex": [
       "\\begin{equation*}\\frac{\\sqrt{2} \\sqrt{z}}{\\sqrt{\\pi}} j_{n - \\frac{1}{2}}\\left(z\\right)\\end{equation*}"
      ],
      "text/plain": [
       "  ___   ___               \n",
       "╲╱ 2 ⋅╲╱ z ⋅jn(n - 1/2, z)\n",
       "──────────────────────────\n",
       "            ___           \n",
       "          ╲╱ π            "
      ]
     },
     "execution_count": 20,
     "metadata": {},
     "output_type": "execute_result"
    }
   ],
   "source": [
    "n = symbols('n')\n",
    "besselj(n, z).rewrite(jn)"
   ]
  },
  {
   "cell_type": "markdown",
   "metadata": {},
   "source": [
    "Print $\\int_{0}^{\\pi} \\cos^{2}{\\left (x \\right )}\\, dx$ using $\\LaTeX$."
   ]
  },
  {
   "cell_type": "code",
   "execution_count": 21,
   "metadata": {},
   "outputs": [
    {
     "data": {
      "text/plain": [
       "'\\\\int_{0}^{\\\\pi} \\\\cos^{2}{\\\\left (x \\\\right )}\\\\, dx'"
      ]
     },
     "execution_count": 21,
     "metadata": {},
     "output_type": "execute_result"
    }
   ],
   "source": [
    "latex(Integral(cos(x)**2, (x, 0, pi)))"
   ]
  }
 ],
 "metadata": {
  "celltoolbar": "Raw Cell Format",
  "kernelspec": {
   "display_name": "Python 3",
   "language": "python",
   "name": "python3"
  },
  "language_info": {
   "codemirror_mode": {
    "name": "ipython",
    "version": 3
   },
   "file_extension": ".py",
   "mimetype": "text/x-python",
   "name": "python",
   "nbconvert_exporter": "python",
   "pygments_lexer": "ipython3",
   "version": "3.7.3"
  }
 },
 "nbformat": 4,
 "nbformat_minor": 2
}
